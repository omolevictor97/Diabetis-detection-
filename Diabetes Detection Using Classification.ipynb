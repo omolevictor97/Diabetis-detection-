{
 "cells": [
  {
   "cell_type": "code",
   "execution_count": 1,
   "id": "315813f9",
   "metadata": {},
   "outputs": [],
   "source": [
    "import pandas as pd\n",
    "import numpy as np\n",
    "import matplotlib.pyplot as plt\n",
    "import seaborn as sns\n",
    "\n",
    "%matplotlib inline"
   ]
  },
  {
   "cell_type": "code",
   "execution_count": 2,
   "id": "98fa3d69",
   "metadata": {},
   "outputs": [
    {
     "data": {
      "text/html": [
       "<div>\n",
       "<style scoped>\n",
       "    .dataframe tbody tr th:only-of-type {\n",
       "        vertical-align: middle;\n",
       "    }\n",
       "\n",
       "    .dataframe tbody tr th {\n",
       "        vertical-align: top;\n",
       "    }\n",
       "\n",
       "    .dataframe thead th {\n",
       "        text-align: right;\n",
       "    }\n",
       "</style>\n",
       "<table border=\"1\" class=\"dataframe\">\n",
       "  <thead>\n",
       "    <tr style=\"text-align: right;\">\n",
       "      <th></th>\n",
       "      <th>PatientID</th>\n",
       "      <th>Pregnancies</th>\n",
       "      <th>PlasmaGlucose</th>\n",
       "      <th>DiastolicBloodPressure</th>\n",
       "      <th>TricepsThickness</th>\n",
       "      <th>SerumInsulin</th>\n",
       "      <th>BMI</th>\n",
       "      <th>DiabetesPedigree</th>\n",
       "      <th>Age</th>\n",
       "      <th>Diabetic</th>\n",
       "    </tr>\n",
       "  </thead>\n",
       "  <tbody>\n",
       "    <tr>\n",
       "      <th>0</th>\n",
       "      <td>1354778</td>\n",
       "      <td>0</td>\n",
       "      <td>171</td>\n",
       "      <td>80</td>\n",
       "      <td>34</td>\n",
       "      <td>23</td>\n",
       "      <td>43.509726</td>\n",
       "      <td>1.213191</td>\n",
       "      <td>21</td>\n",
       "      <td>0</td>\n",
       "    </tr>\n",
       "    <tr>\n",
       "      <th>1</th>\n",
       "      <td>1147438</td>\n",
       "      <td>8</td>\n",
       "      <td>92</td>\n",
       "      <td>93</td>\n",
       "      <td>47</td>\n",
       "      <td>36</td>\n",
       "      <td>21.240576</td>\n",
       "      <td>0.158365</td>\n",
       "      <td>23</td>\n",
       "      <td>0</td>\n",
       "    </tr>\n",
       "    <tr>\n",
       "      <th>2</th>\n",
       "      <td>1640031</td>\n",
       "      <td>7</td>\n",
       "      <td>115</td>\n",
       "      <td>47</td>\n",
       "      <td>52</td>\n",
       "      <td>35</td>\n",
       "      <td>41.511523</td>\n",
       "      <td>0.079019</td>\n",
       "      <td>23</td>\n",
       "      <td>0</td>\n",
       "    </tr>\n",
       "    <tr>\n",
       "      <th>3</th>\n",
       "      <td>1883350</td>\n",
       "      <td>9</td>\n",
       "      <td>103</td>\n",
       "      <td>78</td>\n",
       "      <td>25</td>\n",
       "      <td>304</td>\n",
       "      <td>29.582192</td>\n",
       "      <td>1.282870</td>\n",
       "      <td>43</td>\n",
       "      <td>1</td>\n",
       "    </tr>\n",
       "    <tr>\n",
       "      <th>4</th>\n",
       "      <td>1424119</td>\n",
       "      <td>1</td>\n",
       "      <td>85</td>\n",
       "      <td>59</td>\n",
       "      <td>27</td>\n",
       "      <td>35</td>\n",
       "      <td>42.604536</td>\n",
       "      <td>0.549542</td>\n",
       "      <td>22</td>\n",
       "      <td>0</td>\n",
       "    </tr>\n",
       "    <tr>\n",
       "      <th>5</th>\n",
       "      <td>1619297</td>\n",
       "      <td>0</td>\n",
       "      <td>82</td>\n",
       "      <td>92</td>\n",
       "      <td>9</td>\n",
       "      <td>253</td>\n",
       "      <td>19.724160</td>\n",
       "      <td>0.103424</td>\n",
       "      <td>26</td>\n",
       "      <td>0</td>\n",
       "    </tr>\n",
       "    <tr>\n",
       "      <th>6</th>\n",
       "      <td>1660149</td>\n",
       "      <td>0</td>\n",
       "      <td>133</td>\n",
       "      <td>47</td>\n",
       "      <td>19</td>\n",
       "      <td>227</td>\n",
       "      <td>21.941357</td>\n",
       "      <td>0.174160</td>\n",
       "      <td>21</td>\n",
       "      <td>0</td>\n",
       "    </tr>\n",
       "    <tr>\n",
       "      <th>7</th>\n",
       "      <td>1458769</td>\n",
       "      <td>0</td>\n",
       "      <td>67</td>\n",
       "      <td>87</td>\n",
       "      <td>43</td>\n",
       "      <td>36</td>\n",
       "      <td>18.277723</td>\n",
       "      <td>0.236165</td>\n",
       "      <td>26</td>\n",
       "      <td>0</td>\n",
       "    </tr>\n",
       "  </tbody>\n",
       "</table>\n",
       "</div>"
      ],
      "text/plain": [
       "   PatientID  Pregnancies  PlasmaGlucose  DiastolicBloodPressure  \\\n",
       "0    1354778            0            171                      80   \n",
       "1    1147438            8             92                      93   \n",
       "2    1640031            7            115                      47   \n",
       "3    1883350            9            103                      78   \n",
       "4    1424119            1             85                      59   \n",
       "5    1619297            0             82                      92   \n",
       "6    1660149            0            133                      47   \n",
       "7    1458769            0             67                      87   \n",
       "\n",
       "   TricepsThickness  SerumInsulin        BMI  DiabetesPedigree  Age  Diabetic  \n",
       "0                34            23  43.509726          1.213191   21         0  \n",
       "1                47            36  21.240576          0.158365   23         0  \n",
       "2                52            35  41.511523          0.079019   23         0  \n",
       "3                25           304  29.582192          1.282870   43         1  \n",
       "4                27            35  42.604536          0.549542   22         0  \n",
       "5                 9           253  19.724160          0.103424   26         0  \n",
       "6                19           227  21.941357          0.174160   21         0  \n",
       "7                43            36  18.277723          0.236165   26         0  "
      ]
     },
     "execution_count": 2,
     "metadata": {},
     "output_type": "execute_result"
    }
   ],
   "source": [
    "df = pd.read_csv(\"diabetes.csv\")\n",
    "\n",
    "# View the first 8 rows\n",
    "df.head(8)"
   ]
  },
  {
   "cell_type": "code",
   "execution_count": 3,
   "id": "93004dec",
   "metadata": {},
   "outputs": [
    {
     "data": {
      "text/html": [
       "<div>\n",
       "<style scoped>\n",
       "    .dataframe tbody tr th:only-of-type {\n",
       "        vertical-align: middle;\n",
       "    }\n",
       "\n",
       "    .dataframe tbody tr th {\n",
       "        vertical-align: top;\n",
       "    }\n",
       "\n",
       "    .dataframe thead th {\n",
       "        text-align: right;\n",
       "    }\n",
       "</style>\n",
       "<table border=\"1\" class=\"dataframe\">\n",
       "  <thead>\n",
       "    <tr style=\"text-align: right;\">\n",
       "      <th></th>\n",
       "      <th>PatientID</th>\n",
       "      <th>Pregnancies</th>\n",
       "      <th>PlasmaGlucose</th>\n",
       "      <th>DiastolicBloodPressure</th>\n",
       "      <th>TricepsThickness</th>\n",
       "      <th>SerumInsulin</th>\n",
       "      <th>BMI</th>\n",
       "      <th>DiabetesPedigree</th>\n",
       "      <th>Age</th>\n",
       "      <th>Diabetic</th>\n",
       "    </tr>\n",
       "  </thead>\n",
       "  <tbody>\n",
       "    <tr>\n",
       "      <th>count</th>\n",
       "      <td>1.500000e+04</td>\n",
       "      <td>15000.000000</td>\n",
       "      <td>15000.000000</td>\n",
       "      <td>15000.000000</td>\n",
       "      <td>15000.000000</td>\n",
       "      <td>15000.000000</td>\n",
       "      <td>15000.000000</td>\n",
       "      <td>15000.000000</td>\n",
       "      <td>15000.000000</td>\n",
       "      <td>15000.000000</td>\n",
       "    </tr>\n",
       "    <tr>\n",
       "      <th>mean</th>\n",
       "      <td>1.502922e+06</td>\n",
       "      <td>3.224533</td>\n",
       "      <td>107.856867</td>\n",
       "      <td>71.220667</td>\n",
       "      <td>28.814000</td>\n",
       "      <td>137.852133</td>\n",
       "      <td>31.509646</td>\n",
       "      <td>0.398968</td>\n",
       "      <td>30.137733</td>\n",
       "      <td>0.333333</td>\n",
       "    </tr>\n",
       "    <tr>\n",
       "      <th>std</th>\n",
       "      <td>2.892534e+05</td>\n",
       "      <td>3.391020</td>\n",
       "      <td>31.981975</td>\n",
       "      <td>16.758716</td>\n",
       "      <td>14.555716</td>\n",
       "      <td>133.068252</td>\n",
       "      <td>9.759000</td>\n",
       "      <td>0.377944</td>\n",
       "      <td>12.089703</td>\n",
       "      <td>0.471420</td>\n",
       "    </tr>\n",
       "    <tr>\n",
       "      <th>min</th>\n",
       "      <td>1.000038e+06</td>\n",
       "      <td>0.000000</td>\n",
       "      <td>44.000000</td>\n",
       "      <td>24.000000</td>\n",
       "      <td>7.000000</td>\n",
       "      <td>14.000000</td>\n",
       "      <td>18.200512</td>\n",
       "      <td>0.078044</td>\n",
       "      <td>21.000000</td>\n",
       "      <td>0.000000</td>\n",
       "    </tr>\n",
       "    <tr>\n",
       "      <th>25%</th>\n",
       "      <td>1.252866e+06</td>\n",
       "      <td>0.000000</td>\n",
       "      <td>84.000000</td>\n",
       "      <td>58.000000</td>\n",
       "      <td>15.000000</td>\n",
       "      <td>39.000000</td>\n",
       "      <td>21.259887</td>\n",
       "      <td>0.137743</td>\n",
       "      <td>22.000000</td>\n",
       "      <td>0.000000</td>\n",
       "    </tr>\n",
       "    <tr>\n",
       "      <th>50%</th>\n",
       "      <td>1.505508e+06</td>\n",
       "      <td>2.000000</td>\n",
       "      <td>104.000000</td>\n",
       "      <td>72.000000</td>\n",
       "      <td>31.000000</td>\n",
       "      <td>83.000000</td>\n",
       "      <td>31.767940</td>\n",
       "      <td>0.200297</td>\n",
       "      <td>24.000000</td>\n",
       "      <td>0.000000</td>\n",
       "    </tr>\n",
       "    <tr>\n",
       "      <th>75%</th>\n",
       "      <td>1.755205e+06</td>\n",
       "      <td>6.000000</td>\n",
       "      <td>129.000000</td>\n",
       "      <td>85.000000</td>\n",
       "      <td>41.000000</td>\n",
       "      <td>195.000000</td>\n",
       "      <td>39.259692</td>\n",
       "      <td>0.616285</td>\n",
       "      <td>35.000000</td>\n",
       "      <td>1.000000</td>\n",
       "    </tr>\n",
       "    <tr>\n",
       "      <th>max</th>\n",
       "      <td>1.999997e+06</td>\n",
       "      <td>14.000000</td>\n",
       "      <td>192.000000</td>\n",
       "      <td>117.000000</td>\n",
       "      <td>93.000000</td>\n",
       "      <td>799.000000</td>\n",
       "      <td>56.034628</td>\n",
       "      <td>2.301594</td>\n",
       "      <td>77.000000</td>\n",
       "      <td>1.000000</td>\n",
       "    </tr>\n",
       "  </tbody>\n",
       "</table>\n",
       "</div>"
      ],
      "text/plain": [
       "          PatientID   Pregnancies  PlasmaGlucose  DiastolicBloodPressure  \\\n",
       "count  1.500000e+04  15000.000000   15000.000000            15000.000000   \n",
       "mean   1.502922e+06      3.224533     107.856867               71.220667   \n",
       "std    2.892534e+05      3.391020      31.981975               16.758716   \n",
       "min    1.000038e+06      0.000000      44.000000               24.000000   \n",
       "25%    1.252866e+06      0.000000      84.000000               58.000000   \n",
       "50%    1.505508e+06      2.000000     104.000000               72.000000   \n",
       "75%    1.755205e+06      6.000000     129.000000               85.000000   \n",
       "max    1.999997e+06     14.000000     192.000000              117.000000   \n",
       "\n",
       "       TricepsThickness  SerumInsulin           BMI  DiabetesPedigree  \\\n",
       "count      15000.000000  15000.000000  15000.000000      15000.000000   \n",
       "mean          28.814000    137.852133     31.509646          0.398968   \n",
       "std           14.555716    133.068252      9.759000          0.377944   \n",
       "min            7.000000     14.000000     18.200512          0.078044   \n",
       "25%           15.000000     39.000000     21.259887          0.137743   \n",
       "50%           31.000000     83.000000     31.767940          0.200297   \n",
       "75%           41.000000    195.000000     39.259692          0.616285   \n",
       "max           93.000000    799.000000     56.034628          2.301594   \n",
       "\n",
       "                Age      Diabetic  \n",
       "count  15000.000000  15000.000000  \n",
       "mean      30.137733      0.333333  \n",
       "std       12.089703      0.471420  \n",
       "min       21.000000      0.000000  \n",
       "25%       22.000000      0.000000  \n",
       "50%       24.000000      0.000000  \n",
       "75%       35.000000      1.000000  \n",
       "max       77.000000      1.000000  "
      ]
     },
     "execution_count": 3,
     "metadata": {},
     "output_type": "execute_result"
    }
   ],
   "source": [
    "# statistical info on the dataset\n",
    "\n",
    "df.describe()"
   ]
  },
  {
   "cell_type": "code",
   "execution_count": 4,
   "id": "8b0eec17",
   "metadata": {},
   "outputs": [
    {
     "name": "stdout",
     "output_type": "stream",
     "text": [
      "<class 'pandas.core.frame.DataFrame'>\n",
      "RangeIndex: 15000 entries, 0 to 14999\n",
      "Data columns (total 10 columns):\n",
      " #   Column                  Non-Null Count  Dtype  \n",
      "---  ------                  --------------  -----  \n",
      " 0   PatientID               15000 non-null  int64  \n",
      " 1   Pregnancies             15000 non-null  int64  \n",
      " 2   PlasmaGlucose           15000 non-null  int64  \n",
      " 3   DiastolicBloodPressure  15000 non-null  int64  \n",
      " 4   TricepsThickness        15000 non-null  int64  \n",
      " 5   SerumInsulin            15000 non-null  int64  \n",
      " 6   BMI                     15000 non-null  float64\n",
      " 7   DiabetesPedigree        15000 non-null  float64\n",
      " 8   Age                     15000 non-null  int64  \n",
      " 9   Diabetic                15000 non-null  int64  \n",
      "dtypes: float64(2), int64(8)\n",
      "memory usage: 1.1 MB\n"
     ]
    }
   ],
   "source": [
    "df.info()"
   ]
  },
  {
   "cell_type": "code",
   "execution_count": 5,
   "id": "059c3db4",
   "metadata": {},
   "outputs": [
    {
     "data": {
      "text/plain": [
       "PatientID                   int64\n",
       "Pregnancies                 int64\n",
       "PlasmaGlucose               int64\n",
       "DiastolicBloodPressure      int64\n",
       "TricepsThickness            int64\n",
       "SerumInsulin                int64\n",
       "BMI                       float64\n",
       "DiabetesPedigree          float64\n",
       "Age                         int64\n",
       "Diabetic                    int64\n",
       "dtype: object"
      ]
     },
     "execution_count": 5,
     "metadata": {},
     "output_type": "execute_result"
    }
   ],
   "source": [
    "df.dtypes"
   ]
  },
  {
   "cell_type": "code",
   "execution_count": 6,
   "id": "9170b631",
   "metadata": {},
   "outputs": [
    {
     "data": {
      "text/plain": [
       "<AxesSubplot:>"
      ]
     },
     "execution_count": 6,
     "metadata": {},
     "output_type": "execute_result"
    },
    {
     "data": {
      "image/png": "[encoded data removed]",
      "text/plain": [
       "<Figure size 432x288 with 2 Axes>"
      ]
     },
     "metadata": {
      "needs_background": "light"
     },
     "output_type": "display_data"
    }
   ],
   "source": [
    "sns.heatmap(df.corr(), cmap=\"Greens\")"
   ]
  },
  {
   "cell_type": "code",
   "execution_count": 7,
   "id": "e6e279c5",
   "metadata": {},
   "outputs": [
    {
     "data": {
      "text/plain": [
       "PatientID                 0\n",
       "Pregnancies               0\n",
       "PlasmaGlucose             0\n",
       "DiastolicBloodPressure    0\n",
       "TricepsThickness          0\n",
       "SerumInsulin              0\n",
       "BMI                       0\n",
       "DiabetesPedigree          0\n",
       "Age                       0\n",
       "Diabetic                  0\n",
       "dtype: int64"
      ]
     },
     "execution_count": 7,
     "metadata": {},
     "output_type": "execute_result"
    }
   ],
   "source": [
    "df.isnull().sum()"
   ]
  },
  {
   "cell_type": "markdown",
   "id": "0e40ee72",
   "metadata": {},
   "source": [
    "<strong>We shall plot a histogram for the numerical variables</strong>"
   ]
  },
  {
   "cell_type": "code",
   "execution_count": 8,
   "id": "8feae3e4",
   "metadata": {},
   "outputs": [
    {
     "data": {
      "image/png": "[encoded data removed]",
      "text/plain": [
       "<Figure size 648x432 with 1 Axes>"
      ]
     },
     "metadata": {
      "needs_background": "light"
     },
     "output_type": "display_data"
    },
    {
     "data": {
      "image/png": "[encoded data removed]",
      "text/plain": [
       "<Figure size 648x432 with 1 Axes>"
      ]
     },
     "metadata": {
      "needs_background": "light"
     },
     "output_type": "display_data"
    },
    {
     "data": {
      "image/png": "[encoded data removed]",
      "text/plain": [
       "<Figure size 648x432 with 1 Axes>"
      ]
     },
     "metadata": {
      "needs_background": "light"
     },
     "output_type": "display_data"
    },
    {
     "data": {
      "image/png": "[encoded data removed]",
      "text/plain": [
       "<Figure size 648x432 with 1 Axes>"
      ]
     },
     "metadata": {
      "needs_background": "light"
     },
     "output_type": "display_data"
    },
    {
     "data": {
      "image/png": "[encoded data removed]",
      "text/plain": [
       "<Figure size 648x432 with 1 Axes>"
      ]
     },
     "metadata": {
      "needs_background": "light"
     },
     "output_type": "display_data"
    },
    {
     "data": {
      "image/png": "[encoded data removed]",
      "text/plain": [
       "<Figure size 648x432 with 1 Axes>"
      ]
     },
     "metadata": {
      "needs_background": "light"
     },
     "output_type": "display_data"
    },
    {
     "data": {
      "image/png": "[encoded data removed]",
      "text/plain": [
       "<Figure size 648x432 with 1 Axes>"
      ]
     },
     "metadata": {
      "needs_background": "light"
     },
     "output_type": "display_data"
    }
   ],
   "source": [
    "numerical_features = [\"Pregnancies\", \"PlasmaGlucose\", \"DiastolicBloodPressure\", \"TricepsThickness\", \"SerumInsulin\",\"Age\", \"Diabetic\"]\n",
    "\n",
    "for columns in numerical_features:\n",
    "    fig = plt.figure(figsize = (9,6))\n",
    "    ax = fig.gca()\n",
    "    \n",
    "    col = df[columns]\n",
    "    col.hist(bins=100, ax=ax)\n",
    "    \n",
    "    ax.axvline(col.mean(), color=\"red\", linewidth=2.0, linestyle=\"dashed\")\n",
    "    ax.axvline(col.median(), color=\"magenta\", linewidth=2.0, linestyle=\"dashed\")\n",
    "    ax.axvline(col.mode()[0], color=\"green\", linewidth=2.0, linestyle=\"dashed\")\n",
    "    \n",
    "    ax.set_title(columns)"
   ]
  },
  {
   "cell_type": "code",
   "execution_count": 9,
   "id": "ae01bc38",
   "metadata": {},
   "outputs": [
    {
     "name": "stderr",
     "output_type": "stream",
     "text": [
      "C:\\Users\\Olatomide\\AppData\\Local\\Temp\\ipykernel_13796\\2733303669.py:24: UserWarning: Matplotlib is currently using module://matplotlib_inline.backend_inline, which is a non-GUI backend, so cannot show the figure.\n",
      "  fig.show()\n"
     ]
    },
    {
     "data": {
      "image/png": "[encoded data removed]",
      "text/plain": [
       "<Figure size 648x432 with 2 Axes>"
      ]
     },
     "metadata": {
      "needs_background": "light"
     },
     "output_type": "display_data"
    }
   ],
   "source": [
    "#plot the histogram chart of the target variable to quickly analyse the outliers in there\n",
    "\n",
    "label = df[\"Diabetic\"]\n",
    "\n",
    "#plot two types of charts, viz: histogram and boxplot \n",
    "fig, ax = plt.subplots(2,1, figsize = (9,6))\n",
    "\n",
    "ax[0].hist(label, bins=100)\n",
    "ax[0].set_ylabel(\"Frequency\")\n",
    "\n",
    "#add some statistical lines such as mean and median lines\n",
    "\n",
    "ax[0].axvline(label.mean(), linestyle=\"dashed\", linewidth=2.0, color=\"red\")\n",
    "ax[0].axvline(label.median(), linestyle=\"dashed\", linewidth=2.0, color=\"red\")\n",
    "ax[0].axvline(label.mode()[0], linestyle=\"dashed\", linewidth=2.0, color=\"green\")\n",
    "# we shall now plot the boxplot\n",
    "\n",
    "ax[1].boxplot(label, vert=False)\n",
    "ax[1].set_xlabel(\"Diabetic\")\n",
    "\n",
    "#add a super-title\n",
    "fig.suptitle(\"Diabetics\")\n",
    "#show the plots / charts\n",
    "fig.show()"
   ]
  },
  {
   "cell_type": "markdown",
   "id": "fe4e2612",
   "metadata": {},
   "source": [
    "## we would have seen that most persons have no diabetics"
   ]
  },
  {
   "cell_type": "code",
   "execution_count": 10,
   "id": "bf1ed059",
   "metadata": {},
   "outputs": [],
   "source": [
    "features = ['Pregnancies','PlasmaGlucose','DiastolicBloodPressure','TricepsThickness','SerumInsulin','BMI','DiabetesPedigree','Age']\n",
    "label    = \"Diabetic\""
   ]
  },
  {
   "cell_type": "code",
   "execution_count": 11,
   "id": "d53d3cc3",
   "metadata": {},
   "outputs": [],
   "source": [
    "X = df[features].values\n",
    "y = df[label].values"
   ]
  },
  {
   "cell_type": "code",
   "execution_count": 12,
   "id": "ea279d43",
   "metadata": {},
   "outputs": [],
   "source": [
    "from sklearn.model_selection import train_test_split\n",
    "from sklearn.linear_model import LogisticRegression\n",
    "from sklearn.preprocessing import StandardScaler\n",
    "from sklearn.pipeline import make_pipeline"
   ]
  },
  {
   "cell_type": "code",
   "execution_count": 13,
   "id": "d234de6d",
   "metadata": {},
   "outputs": [],
   "source": [
    "X_train, X_test, y_train, y_test = train_test_split(X,y, test_size=0.2, random_state = 20)"
   ]
  },
  {
   "cell_type": "code",
   "execution_count": 14,
   "id": "de069d4e",
   "metadata": {},
   "outputs": [
    {
     "data": {
      "text/plain": [
       "array([[7.00000000e+00, 7.70000000e+01, 8.90000000e+01, ...,\n",
       "        4.16210962e+01, 2.47561623e-01, 4.50000000e+01],\n",
       "       [0.00000000e+00, 5.40000000e+01, 5.30000000e+01, ...,\n",
       "        4.02480528e+01, 3.02540380e-01, 3.00000000e+01],\n",
       "       [7.00000000e+00, 1.11000000e+02, 4.90000000e+01, ...,\n",
       "        2.93024209e+01, 2.03108610e-01, 2.30000000e+01],\n",
       "       ...,\n",
       "       [3.00000000e+00, 1.85000000e+02, 7.70000000e+01, ...,\n",
       "        3.62350309e+01, 6.53664190e-01, 4.40000000e+01],\n",
       "       [1.00000000e+00, 1.32000000e+02, 9.60000000e+01, ...,\n",
       "        3.38084063e+01, 9.65323850e-02, 2.20000000e+01],\n",
       "       [7.00000000e+00, 1.20000000e+02, 7.90000000e+01, ...,\n",
       "        3.24698290e+01, 5.88256992e-01, 3.80000000e+01]])"
      ]
     },
     "execution_count": 14,
     "metadata": {},
     "output_type": "execute_result"
    }
   ],
   "source": [
    "X_train"
   ]
  },
  {
   "cell_type": "code",
   "execution_count": 15,
   "id": "3cf7bfbb",
   "metadata": {},
   "outputs": [],
   "source": [
    "reg = 0.01\n",
    "pipeline = make_pipeline(StandardScaler(), LogisticRegression(C = 0.3, multi_class=\"multinomial\", solver=\"saga\", penalty=\"elasticnet\",\\\n",
    "                                                             fit_intercept=True, l1_ratio=0.8))"
   ]
  },
  {
   "cell_type": "code",
   "execution_count": 16,
   "id": "f08cf000",
   "metadata": {},
   "outputs": [],
   "source": [
    "model = pipeline.fit(X_train,y_train)"
   ]
  },
  {
   "cell_type": "code",
   "execution_count": 22,
   "id": "c93bcd7e",
   "metadata": {},
   "outputs": [
    {
     "name": "stdout",
     "output_type": "stream",
     "text": [
      "The predictions are [0 1 0 ... 0 0 1]\n",
      "The actual labels are [0 1 0 ... 0 1 0]\n",
      "The test features are [[1.00000000e+00 7.30000000e+01 9.30000000e+01 ... 2.18809700e+01\n",
      "  4.99129225e-01 2.10000000e+01]\n",
      " [1.00000000e+00 1.43000000e+02 9.10000000e+01 ... 4.09052477e+01\n",
      "  7.91112784e-01 4.60000000e+01]\n",
      " [0.00000000e+00 1.15000000e+02 8.80000000e+01 ... 2.05014573e+01\n",
      "  2.72038099e-01 2.10000000e+01]\n",
      " ...\n",
      " [8.00000000e+00 9.00000000e+01 8.00000000e+01 ... 2.15905042e+01\n",
      "  9.46410770e-02 2.10000000e+01]\n",
      " [2.00000000e+00 1.16000000e+02 1.00000000e+02 ... 2.99450477e+01\n",
      "  9.00859447e-01 2.20000000e+01]\n",
      " [9.00000000e+00 1.59000000e+02 4.30000000e+01 ... 1.96444376e+01\n",
      "  6.35976918e-01 4.50000000e+01]]\n"
     ]
    }
   ],
   "source": [
    "y_pred = model.predict(X_test)\n",
    "print(\"The predictions are {}\".format(y_pred))\n",
    "print(\"The actual labels are {}\".format(y_test))\n",
    "print(\"The test features are {}\".format(X_test))"
   ]
  },
  {
   "cell_type": "code",
   "execution_count": 18,
   "id": "eaa6b99a",
   "metadata": {},
   "outputs": [
    {
     "data": {
      "text/plain": [
       "0.7861666666666667"
      ]
     },
     "execution_count": 18,
     "metadata": {},
     "output_type": "execute_result"
    }
   ],
   "source": [
    "model.score(X_train, y_train)"
   ]
  },
  {
   "cell_type": "code",
   "execution_count": 19,
   "id": "424e3251",
   "metadata": {},
   "outputs": [],
   "source": [
    "from sklearn.metrics import accuracy_score, classification_report"
   ]
  },
  {
   "cell_type": "code",
   "execution_count": 20,
   "id": "9c6ee544",
   "metadata": {},
   "outputs": [
    {
     "name": "stdout",
     "output_type": "stream",
     "text": [
      "The accuracy score is 78.87%\n"
     ]
    }
   ],
   "source": [
    "Accuracy = accuracy_score(y_test, y_pred)\n",
    "\n",
    "print(\"The accuracy score is {:.2f}%\".format(Accuracy * 100))"
   ]
  },
  {
   "cell_type": "code",
   "execution_count": 21,
   "id": "b8e0e2a3",
   "metadata": {},
   "outputs": [
    {
     "name": "stdout",
     "output_type": "stream",
     "text": [
      "              precision    recall  f1-score   support\n",
      "\n",
      "           0       0.81      0.89      0.85      2012\n",
      "           1       0.72      0.59      0.65       988\n",
      "\n",
      "    accuracy                           0.79      3000\n",
      "   macro avg       0.77      0.74      0.75      3000\n",
      "weighted avg       0.78      0.79      0.78      3000\n",
      "\n"
     ]
    }
   ],
   "source": [
    "print(classification_report(y_test, y_pred))"
   ]
  },
  {
   "cell_type": "markdown",
   "id": "b3ebadf6",
   "metadata": {},
   "source": [
    "<p>From the classification report it is evient to identify some issues in there.<BR>\n",
    "The precision measures how many correct predictions the model could make<BR>\n",
    "The recall measures how many of the instances of the class in the dataset the model identify\n",
    "</p>"
   ]
  },
  {
   "cell_type": "code",
   "execution_count": 24,
   "id": "0f0616b0",
   "metadata": {},
   "outputs": [
    {
     "data": {
      "text/plain": [
       "array([0], dtype=int64)"
      ]
     },
     "execution_count": 24,
     "metadata": {},
     "output_type": "execute_result"
    }
   ],
   "source": [
    "model.predict([[0,171,80,34,23,43.509726,1.213191,21]])"
   ]
  },
  {
   "cell_type": "code",
   "execution_count": 30,
   "id": "2ef7bd05",
   "metadata": {},
   "outputs": [
    {
     "name": "stdout",
     "output_type": "stream",
     "text": [
      "You might need to visit the medical hospital\n"
     ]
    }
   ],
   "source": [
    "y_pred = model.predict([[1,86,70,27,35,42.604536,0.549542,90]])\n",
    "\n",
    "if y_pred[0] == 0:\n",
    "    print(\"Nice one you are not a diabetic patient\")\n",
    "else:\n",
    "    print(\"You might need to visit the medical hospital\")"
   ]
  },
  {
   "cell_type": "code",
   "execution_count": 33,
   "id": "95b2630a",
   "metadata": {},
   "outputs": [],
   "source": [
    "y_pred = model.predict(X_test)"
   ]
  },
  {
   "cell_type": "code",
   "execution_count": 37,
   "id": "a5d6c55b",
   "metadata": {},
   "outputs": [
    {
     "name": "stdout",
     "output_type": "stream",
     "text": [
      "The overall precision score 71.80%\n",
      "===============================================\n",
      "The overall recall score 59.01%\n"
     ]
    }
   ],
   "source": [
    "from sklearn.metrics import precision_score, recall_score, confusion_matrix\n",
    "\n",
    "print(\"The overall precision score {:.2f}%\".format(precision_score(y_test, y_pred) * 100))\n",
    "\n",
    "print(\"===============================================\")\n",
    "\n",
    "print(\"The overall recall score {:.2f}%\".format(recall_score(y_test, y_pred) * 100))"
   ]
  },
  {
   "cell_type": "code",
   "execution_count": 38,
   "id": "8082f32b",
   "metadata": {},
   "outputs": [
    {
     "name": "stdout",
     "output_type": "stream",
     "text": [
      "[[1783  229]\n",
      " [ 405  583]]\n"
     ]
    }
   ],
   "source": [
    "CM = confusion_matrix(y_test, y_pred)\n",
    "\n",
    "print(CM)"
   ]
  },
  {
   "cell_type": "markdown",
   "id": "0f1ee301",
   "metadata": {},
   "source": [
    "<strong>You would see from the above confusion matrix is that <br>\n",
    "    <ol>\n",
    "        <li>True Negative(TN): the upper left corner is 1783</li>\n",
    "        <li>True Positive(TP): the bottom right corner is 583</li>\n",
    "        <li>False Negative(FN): the lower left corner is 405</li>\n",
    "        <li>False Positive(FP): the upper right corner is 229</li>\n",
    "    </ol>\n",
    "</strong>"
   ]
  },
  {
   "cell_type": "code",
   "execution_count": null,
   "id": "4028c5f4",
   "metadata": {},
   "outputs": [],
   "source": []
  }
 ],
 "metadata": {
  "kernelspec": {
   "display_name": "Python 3 (ipykernel)",
   "language": "python",
   "name": "python3"
  },
  "language_info": {
   "codemirror_mode": {
    "name": "ipython",
    "version": 3
   },
   "file_extension": ".py",
   "mimetype": "text/x-python",
   "name": "python",
   "nbconvert_exporter": "python",
   "pygments_lexer": "ipython3",
   "version": "3.9.12"
  }
 },
 "nbformat": 4,
 "nbformat_minor": 5
}
